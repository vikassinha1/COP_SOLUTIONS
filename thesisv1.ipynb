{
  "nbformat": 4,
  "nbformat_minor": 0,
  "metadata": {
    "colab": {
      "name": "thesisv1.ipynb",
      "provenance": [],
      "authorship_tag": "ABX9TyMPeGfCyM0beo5/LnOXS/XX",
      "include_colab_link": true
    },
    "kernelspec": {
      "name": "python3",
      "display_name": "Python 3"
    },
    "language_info": {
      "name": "python"
    }
  },
  "cells": [
    {
      "cell_type": "markdown",
      "metadata": {
        "id": "view-in-github",
        "colab_type": "text"
      },
      "source": [
        "<a href=\"https://colab.research.google.com/github/vikassinha1/COP_SOLUTIONS/blob/main/thesisv1.ipynb\" target=\"_parent\"><img src=\"https://colab.research.google.com/assets/colab-badge.svg\" alt=\"Open In Colab\"/></a>"
      ]
    },
    {
      "cell_type": "markdown",
      "source": [
        "**COMBINATORIAL OPTIMIZATION PROBLEM (COP) USING DEEP REINFORCEMENT LEARNING (DRL) TO ACHIEVE OPTIMAL SOLUTION FOR A VERY LARGE INPUT/NODES (>10000).**"
      ],
      "metadata": {
        "id": "8tdgCcSCupdO"
      }
    },
    {
      "cell_type": "code",
      "execution_count": null,
      "metadata": {
        "id": "6CcL4iFIuTd0"
      },
      "outputs": [],
      "source": [
        ""
      ]
    },
    {
      "cell_type": "markdown",
      "source": [
        "Welcome to the solution for TSP using DRL model. This work is for improving the eMAGIC algo in the partial fulfilment of MS degree"
      ],
      "metadata": {
        "id": "Rx4nikHVuVwF"
      }
    }
  ]
}